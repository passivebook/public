{
  "nbformat": 4,
  "nbformat_minor": 0,
  "metadata": {
    "colab": {
      "provenance": [],
      "toc_visible": true,
      "include_colab_link": true
    },
    "kernelspec": {
      "name": "python3",
      "display_name": "Python 3"
    },
    "language_info": {
      "name": "python"
    }
  },
  "cells": [
    {
      "cell_type": "markdown",
      "metadata": {
        "id": "view-in-github",
        "colab_type": "text"
      },
      "source": [
        "<a href=\"https://colab.research.google.com/github/passivebook/public/blob/main/CSV_to_Affiliate_Links.ipynb\" target=\"_parent\"><img src=\"https://colab.research.google.com/assets/colab-badge.svg\" alt=\"Open In Colab\"/></a>"
      ]
    },
    {
      "cell_type": "markdown",
      "source": [
        "https://drive.google.com/drive/folders/1T5JJmlDwdaEkAAbpH2VOn-TCeAuW8OKl"
      ],
      "metadata": {
        "id": "7D4qZJPTRxwO"
      }
    },
    {
      "cell_type": "code",
      "execution_count": null,
      "metadata": {
        "id": "zfpNZSrykqTe",
        "colab": {
          "base_uri": "https://localhost:8080/"
        },
        "outputId": "08b4a129-2bd0-4ca4-b059-829c842a3454"
      },
      "outputs": [
        {
          "output_type": "stream",
          "name": "stdout",
          "text": [
            "Mounted at /content/gdrive\n"
          ]
        }
      ],
      "source": [
        "import os\n",
        "import pandas as pd\n",
        "import re\n",
        "from bs4 import BeautifulSoup\n",
        "from bs4 import element as bs4_element\n",
        "from google.colab import drive\n",
        "import csv\n",
        "drive.mount(\"/content/gdrive\")"
      ]
    },
    {
      "cell_type": "markdown",
      "source": [
        "#### Put the path to the google drive folder after `/content/gdrive/My Drive/`\n",
        "\n"
      ],
      "metadata": {
        "id": "XqzPbBhE1Yec"
      }
    },
    {
      "cell_type": "code",
      "source": [
        "os.chdir(\"/content/gdrive/My Drive/Colab Notebooks/Fix WordPress Links\")"
      ],
      "metadata": {
        "id": "iWRPpN-YlD-U"
      },
      "execution_count": null,
      "outputs": []
    },
    {
      "cell_type": "markdown",
      "source": [
        "#### Upload the post.txt file to Google Drive \n",
        "1. Create a `post.txt` file and paste the WordPress Post Code in it. \n",
        "2. Upload the post.txt file to path setup above. "
      ],
      "metadata": {
        "id": "TiIOl2Lq1yAJ"
      }
    },
    {
      "cell_type": "markdown",
      "source": [
        "### Check file post.txt exists in Drive by running the code below"
      ],
      "metadata": {
        "id": "RuzMxUGf2VwX"
      }
    },
    {
      "cell_type": "code",
      "source": [
        "! ls"
      ],
      "metadata": {
        "colab": {
          "base_uri": "https://localhost:8080/"
        },
        "id": "TdYhA7V7lN7T",
        "outputId": "83b018ef-b019-49b8-f988-4eb3bf4b896c"
      },
      "execution_count": null,
      "outputs": [
        {
          "output_type": "stream",
          "name": "stdout",
          "text": [
            " affiliate_links.csv\t\t     'Fix WordPress Links.ipynb'   input.txt\n",
            "'Copy of Fix WordPress Links.ipynb'   index_hyperlinked.html\t   output.txt\n"
          ]
        }
      ]
    },
    {
      "cell_type": "markdown",
      "source": [
        "## Affiliate Link"
      ],
      "metadata": {
        "id": "I5waADIeA_8D"
      }
    },
    {
      "cell_type": "code",
      "source": [
        "html_doc = \"\"\"\n",
        "<!-- wp:paragraph -->\n",
        "<p>This is a existing link <a class=\"test\" href=\"https://yahoo.com/\">Yahoo</a> Text</p>\n",
        "<!-- /wp:paragraph -->\n",
        "\n",
        "<!-- wp:paragraph -->\n",
        "<p>This is another Google Text</p>\n",
        "<!-- /wp:paragraph -->\n",
        "\n",
        "<!-- wp:paragraph -->\n",
        "<p>This is another lowercase bing Text</p>\n",
        "<!-- /wp:paragraph -->\n",
        "\n",
        "<!-- wp:paragraph -->\n",
        "<p>This is another multi word Active Campaign Text</p>\n",
        "<!-- /wp:paragraph -->\n",
        "\"\"\"\n",
        "\n",
        "soup = BeautifulSoup(html_doc, 'html.parser')\n",
        "\n",
        "# read the CSV file with anchor text and hyperlinks\n",
        "with open('file.csv', 'r') as csv_file:\n",
        "  reader = csv.reader(csv_file)\n",
        "  hyperlinks = dict(reader)"
      ],
      "metadata": {
        "id": "-EuV1miebDxz"
      },
      "execution_count": null,
      "outputs": []
    },
    {
      "cell_type": "code",
      "source": [
        "# from bs4 import element as bs4_element\n",
        "be_navStr = bs4_element.NavigableString\n",
        "\n",
        "hList = [\n",
        "    (anchor_text.strip(), hyperlink.strip()) for\n",
        "    anchor_text, hyperlink in hyperlinks.items()\n",
        "    if anchor_text.strip() and hyperlink.strip() # no blanks\n",
        "]"
      ],
      "metadata": {
        "id": "zKVjJquybpzs"
      },
      "execution_count": null,
      "outputs": []
    },
    {
      "cell_type": "code",
      "source": [
        "html_doc = \"\"\"\n",
        "<!-- wp:paragraph -->\n",
        "<p>This is a existing link <a class=\"test\" href=\"https://yahoo.com/\">Yahoo</a> Text</p>\n",
        "<!-- /wp:paragraph -->\n",
        "\n",
        "<!-- wp:paragraph -->\n",
        "<p>This is another Google Text</p>\n",
        "<!-- /wp:paragraph -->\n",
        "\n",
        "<!-- wp:paragraph -->\n",
        "<p>This is another lowercase bing Text</p>\n",
        "<!-- /wp:paragraph -->\n",
        "\n",
        "<!-- wp:paragraph -->\n",
        "<p>This is another multi word Active Campaign Text</p>\n",
        "<!-- /wp:paragraph -->\n",
        "\"\"\"\n",
        "\n",
        "soup = BeautifulSoup(html_doc, 'html.parser')\n",
        "\n",
        "# read the CSV file with anchor text and hyperlinks\n",
        "with open('affiliate_links.csv', 'r') as csv_file:\n",
        "  reader = csv.reader(csv_file)\n",
        "  hyperlinks = dict(reader)\n",
        "\n",
        "# from bs4 import element as bs4_element\n",
        "be_navStr = bs4_element.NavigableString\n",
        "\n",
        "hList = [\n",
        "    (anchor_text.strip(), hyperlink.strip()) for\n",
        "    anchor_text, hyperlink in hyperlinks.items()\n",
        "    if anchor_text.strip() and hyperlink.strip() # no blanks\n",
        "]\n",
        "\n",
        "\n",
        "for txt, link in hList:\n",
        "    navStrs = [\n",
        "        d for d in soup.descendants if type(d) == be_navStr \n",
        "        and f' {txt.lower()} ' in f' {d.string().strip().lower()} '\n",
        "    ]\n",
        "    for ns in navStrs: \n",
        "        tLen, remStr = len(txt), f' {ns.get_text().strip()} '\n",
        "        if remStr[1:-1].lower() == txt.lower():\n",
        "            # to skip if it's already a hyperlink\n",
        "            if ns.parent.name == 'a': \n",
        "                # ns.parent['href'] = link # if you want to replace/update link\n",
        "                continue \n",
        "\n",
        "        while f' {txt.lower()} ' in remStr.lower():\n",
        "            sInd = remStr.lower().find(f' {txt.lower()} ') + 1\n",
        "\n",
        "            hlTag = soup.new_tag('a', href=link)\n",
        "            hlTag.append(remStr[sInd:sInd + tLen])\n",
        "\n",
        "            newCont = [remStr[:sInd].lstrip(), hlTag, ' ']\n",
        "            for addn in newCont: ns.insert_before(addn) "
      ],
      "metadata": {
        "colab": {
          "base_uri": "https://localhost:8080/",
          "height": 357
        },
        "id": "iGFcE2bnb9Wr",
        "outputId": "1ec903a0-2c54-4a75-a93b-3febf4825e1f"
      },
      "execution_count": null,
      "outputs": [
        {
          "output_type": "error",
          "ename": "TypeError",
          "evalue": "ignored",
          "traceback": [
            "\u001b[0;31m---------------------------------------------------------------------------\u001b[0m",
            "\u001b[0;31mTypeError\u001b[0m                                 Traceback (most recent call last)",
            "\u001b[0;32m<ipython-input-8-c80f8e25e4ed>\u001b[0m in \u001b[0;36m<module>\u001b[0;34m\u001b[0m\n\u001b[1;32m     35\u001b[0m \u001b[0;34m\u001b[0m\u001b[0m\n\u001b[1;32m     36\u001b[0m \u001b[0;32mfor\u001b[0m \u001b[0mtxt\u001b[0m\u001b[0;34m,\u001b[0m \u001b[0mlink\u001b[0m \u001b[0;32min\u001b[0m \u001b[0mhList\u001b[0m\u001b[0;34m:\u001b[0m\u001b[0;34m\u001b[0m\u001b[0;34m\u001b[0m\u001b[0m\n\u001b[0;32m---> 37\u001b[0;31m     navStrs = [\n\u001b[0m\u001b[1;32m     38\u001b[0m         \u001b[0md\u001b[0m \u001b[0;32mfor\u001b[0m \u001b[0md\u001b[0m \u001b[0;32min\u001b[0m \u001b[0msoup\u001b[0m\u001b[0;34m.\u001b[0m\u001b[0mdescendants\u001b[0m \u001b[0;32mif\u001b[0m \u001b[0mtype\u001b[0m\u001b[0;34m(\u001b[0m\u001b[0md\u001b[0m\u001b[0;34m)\u001b[0m \u001b[0;34m==\u001b[0m \u001b[0mbe_navStr\u001b[0m\u001b[0;34m\u001b[0m\u001b[0;34m\u001b[0m\u001b[0m\n\u001b[1;32m     39\u001b[0m         \u001b[0;32mand\u001b[0m \u001b[0;34mf' {txt.lower()} '\u001b[0m \u001b[0;32min\u001b[0m \u001b[0;34mf' {d.string().strip().lower()} '\u001b[0m\u001b[0;34m\u001b[0m\u001b[0;34m\u001b[0m\u001b[0m\n",
            "\u001b[0;32m<ipython-input-8-c80f8e25e4ed>\u001b[0m in \u001b[0;36m<listcomp>\u001b[0;34m(.0)\u001b[0m\n\u001b[1;32m     37\u001b[0m     navStrs = [\n\u001b[1;32m     38\u001b[0m         \u001b[0md\u001b[0m \u001b[0;32mfor\u001b[0m \u001b[0md\u001b[0m \u001b[0;32min\u001b[0m \u001b[0msoup\u001b[0m\u001b[0;34m.\u001b[0m\u001b[0mdescendants\u001b[0m \u001b[0;32mif\u001b[0m \u001b[0mtype\u001b[0m\u001b[0;34m(\u001b[0m\u001b[0md\u001b[0m\u001b[0;34m)\u001b[0m \u001b[0;34m==\u001b[0m \u001b[0mbe_navStr\u001b[0m\u001b[0;34m\u001b[0m\u001b[0;34m\u001b[0m\u001b[0m\n\u001b[0;32m---> 39\u001b[0;31m         \u001b[0;32mand\u001b[0m \u001b[0;34mf' {txt.lower()} '\u001b[0m \u001b[0;32min\u001b[0m \u001b[0;34mf' {d.string().strip().lower()} '\u001b[0m\u001b[0;34m\u001b[0m\u001b[0;34m\u001b[0m\u001b[0m\n\u001b[0m\u001b[1;32m     40\u001b[0m     ]\n\u001b[1;32m     41\u001b[0m     \u001b[0;32mfor\u001b[0m \u001b[0mns\u001b[0m \u001b[0;32min\u001b[0m \u001b[0mnavStrs\u001b[0m\u001b[0;34m:\u001b[0m\u001b[0;34m\u001b[0m\u001b[0;34m\u001b[0m\u001b[0m\n",
            "\u001b[0;31mTypeError\u001b[0m: 'NavigableString' object is not callable"
          ]
        }
      ]
    }
  ]
}